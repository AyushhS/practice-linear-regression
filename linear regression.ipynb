{
 "cells": [
  {
   "cell_type": "markdown",
   "id": "4eb0396a",
   "metadata": {},
   "source": [
    "# LINEAR REGRESSION\n",
    "A practice session"
   ]
  },
  {
   "cell_type": "markdown",
   "id": "3b7d29b4",
   "metadata": {},
   "source": [
    "importing libraries - "
   ]
  },
  {
   "cell_type": "code",
   "execution_count": 52,
   "id": "67b3f7b9",
   "metadata": {},
   "outputs": [],
   "source": [
    "import numpy as np\n",
    "import pandas as pd\n",
    "import csv\n",
    "import matplotlib.pyplot as plt\n",
    "from ipywidgets import interact"
   ]
  },
  {
   "cell_type": "markdown",
   "id": "e59bdde6",
   "metadata": {},
   "source": [
    "Importing the dataset and arranging it in a numpy array - "
   ]
  },
  {
   "cell_type": "code",
   "execution_count": 53,
   "id": "70cb126d",
   "metadata": {},
   "outputs": [],
   "source": [
    "file = open('E:\\coding\\\\test_python\\linear regression dataset\\\\train.csv');\n",
    "dataset_csv = csv.reader(file);\n",
    "\n",
    "datasetX = list();\n",
    "datasetY = list()\n",
    "for i in dataset_csv:\n",
    "     tempX = list(i)\n",
    "     tempY = tempX[1];\n",
    "     tempX[1] = tempX[0]\n",
    "     tempX[0] = 1;\n",
    "     datasetY = datasetY + [tempY]\n",
    "     datasetX = datasetX + [tempX]\n",
    "X = np.array(datasetX)\n",
    "Y = np.array(datasetY)\n",
    "X = np.delete(X, 0, 0)\n",
    "X = X.astype(float)\n",
    "Y = np.delete(Y, 0, 0)\n",
    "Y = Y.astype(float)"
   ]
  },
  {
   "cell_type": "markdown",
   "id": "3ae71dc6",
   "metadata": {},
   "source": [
    "important variables and plots - "
   ]
  },
  {
   "cell_type": "code",
   "execution_count": 54,
   "id": "a40f85ca",
   "metadata": {},
   "outputs": [],
   "source": [
    "m = X.shape[0]\n",
    "theta = np.random.rand(1,2)\n",
    "theta = np.array([[0,0]])\n",
    "\n",
    "ogtheta = theta\n",
    "J = 0\n",
    "alpha = 1"
   ]
  },
  {
   "cell_type": "code",
   "execution_count": 55,
   "id": "758bc3bf",
   "metadata": {},
   "outputs": [],
   "source": [
    "def plotstuff(X, Y, theta):\n",
    "     Yline = np.linspace(min(X[:,1]),max(X[:,1]))\n",
    "     Xline = np.ones(Yline.shape)\n",
    "     for itr in range(len(Yline)):\n",
    "          Xline[itr] = Yline[itr] * theta[0,1] + theta[0,0] \n",
    "     plt.scatter(X[:,1], Y, c=\"blue\")\n",
    "     plt.plot(Xline, Yline, c=\"red\")\n",
    "     #plt.show()"
   ]
  },
  {
   "cell_type": "code",
   "execution_count": 56,
   "id": "c53259de",
   "metadata": {},
   "outputs": [
    {
     "data": {
      "image/png": "[encoded data removed]",
      "text/plain": [
       "<Figure size 432x288 with 1 Axes>"
      ]
     },
     "metadata": {
      "needs_background": "light"
     },
     "output_type": "display_data"
    }
   ],
   "source": [
    "plotstuff(X,Y,theta)"
   ]
  },
  {
   "cell_type": "markdown",
   "id": "ead5ef86",
   "metadata": {},
   "source": [
    "cost function and gradient descent - "
   ]
  },
  {
   "cell_type": "code",
   "execution_count": 57,
   "id": "e9584a1b",
   "metadata": {},
   "outputs": [],
   "source": [
    "def calculatecost(X, theta):\n",
    "     cost = 0\n",
    "     for itr in range(len(X)):\n",
    "          cost += (np.sum(X[itr,:] * theta) - Y[itr]) ** 2    \n",
    "     cost = (1 / m) * cost;\n",
    "     return cost"
   ]
  },
  {
   "cell_type": "code",
   "execution_count": 58,
   "id": "ed433dbb",
   "metadata": {},
   "outputs": [],
   "source": [
    "def gradientdescentandplot(X, theta, alpha):\n",
    "     J = 0\n",
    "     for i in range(50):\n",
    "          c = np.zeros((1,2))\n",
    "          for j in range(len(X)):\n",
    "               c[0,1] += (np.sum(X[j,:] * theta) - Y[j]) * X[j,1]\n",
    "               c[0,0] += (np.sum(X[j,:] * theta) - Y[j])\n",
    "               #print(c)\n",
    "          theta = theta - (alpha / m) * c\n",
    "          #print(J)\n",
    "          J = calculatecost(X, theta)\n",
    "          plt.scatter(i, J, c='red')\n",
    "     return theta"
   ]
  },
  {
   "cell_type": "markdown",
   "id": "06499ac5",
   "metadata": {},
   "source": [
    "Other functions - "
   ]
  },
  {
   "cell_type": "code",
   "execution_count": 59,
   "id": "b4624a7a",
   "metadata": {},
   "outputs": [],
   "source": [
    "def compare(X, ogtheta, theta):\n",
    "     plt.subplot(1,2,1)\n",
    "     plotstuff(X,Y,ogtheta)\n",
    "     plt.subplot(1,2,2)\n",
    "     plotstuff(X,Y,theta)\n",
    "     plt.show()"
   ]
  },
  {
   "cell_type": "code",
   "execution_count": 60,
   "id": "3ff3d5f6",
   "metadata": {},
   "outputs": [],
   "source": [
    "def userinputornot(theta):\n",
    "     theta = np.array([[0, 0]])\n",
    "     if input(\"input theta, esc for random values\"):\n",
    "          theta[0,0], theta[0,1] = input().split()\n",
    "     else:\n",
    "          theta = np.random.rand(1,2)\n",
    "     return theta"
   ]
  },
  {
   "cell_type": "markdown",
   "id": "89c7586b",
   "metadata": {},
   "source": [
    "Driver code - "
   ]
  },
  {
   "cell_type": "code",
   "execution_count": 61,
   "id": "600494b1",
   "metadata": {},
   "outputs": [
    {
     "data": {
      "image/png": "[encoded data removed]",
      "text/plain": [
       "<Figure size 432x288 with 2 Axes>"
      ]
     },
     "metadata": {
      "needs_background": "light"
     },
     "output_type": "display_data"
    }
   ],
   "source": [
    "theta = np.random.rand(1,2)\n",
    "ogtheta = theta\n",
    "theta = gradientdescentandplot(X, theta, 0.0001)\n",
    "compare(X, ogtheta, theta)"
   ]
  },
  {
   "cell_type": "code",
   "execution_count": 49,
   "id": "986418a4",
   "metadata": {},
   "outputs": [
    {
     "name": "stdout",
     "output_type": "stream",
     "text": [
      "float64 float64\n",
      "Predicted yvalue =  10.053951147490597\n"
     ]
    }
   ],
   "source": [
    "xin = input(\"Enter value = \")\n",
    "xin = np.array(xin, dtype=float)\n",
    "print(theta[0,1].dtype, xin.dtype)\n",
    "yin = theta[0,0] + theta[0,1] * xin\n",
    "print(\"Predicted yvalue = \", yin)"
   ]
  },
  {
   "cell_type": "markdown",
   "id": "2d4cf395",
   "metadata": {},
   "source": [
    "inputting test set - "
   ]
  },
  {
   "cell_type": "code",
   "execution_count": 50,
   "id": "57b9a173",
   "metadata": {},
   "outputs": [],
   "source": [
    "file = open(\"E:\\coding\\\\test_python\\linear regression dataset\\\\test.csv\")\n",
    "dataset_test_csv = csv.reader(file)\n",
    "dataset_test = list()\n",
    "for i in dataset_test_csv:\n",
    "     dataset_test = dataset_test + [i]\n",
    "dataset_test = np.array(dataset_test)\n",
    "dataset_test = np.delete(dataset_test, 0, 0)\n",
    "dataset_test = dataset_test.astype(float)\n",
    "Xtest = np.ones(dataset_test.shape)\n",
    "Xtest[:,1] = dataset_test[:,0]\n",
    "Ytest = dataset_test[:,1]"
   ]
  },
  {
   "cell_type": "markdown",
   "id": "907d2f1e",
   "metadata": {},
   "source": [
    "checking predictions in the test set - "
   ]
  },
  {
   "cell_type": "code",
   "execution_count": 51,
   "id": "bf34f123",
   "metadata": {},
   "outputs": [
    {
     "data": {
      "image/png": "[encoded data removed]",
      "text/plain": [
       "<Figure size 432x288 with 1 Axes>"
      ]
     },
     "metadata": {
      "needs_background": "light"
     },
     "output_type": "display_data"
    },
    {
     "data": {
      "image/png": "[encoded data removed]",
      "text/plain": [
       "<Figure size 432x288 with 1 Axes>"
      ]
     },
     "metadata": {
      "needs_background": "light"
     },
     "output_type": "display_data"
    }
   ],
   "source": [
    "plotstuff(Xtest, Ytest, theta)\n",
    "plt.show()\n",
    "plotstuff(X, Y, theta)\n",
    "plt.show()"
   ]
  }
 ],
 "metadata": {
  "interpreter": {
   "hash": "b8e45dd11bd230feb8138936fba0ab46bd9db878179e44f167c068ba88f8a0cc"
  },
  "kernelspec": {
   "display_name": "Python 3.9.5 64-bit",
   "language": "python",
   "name": "python3"
  },
  "language_info": {
   "codemirror_mode": {
    "name": "ipython",
    "version": 3
   },
   "file_extension": ".py",
   "mimetype": "text/x-python",
   "name": "python",
   "nbconvert_exporter": "python",
   "pygments_lexer": "ipython3",
   "version": "3.9.5"
  }
 },
 "nbformat": 4,
 "nbformat_minor": 5
}
